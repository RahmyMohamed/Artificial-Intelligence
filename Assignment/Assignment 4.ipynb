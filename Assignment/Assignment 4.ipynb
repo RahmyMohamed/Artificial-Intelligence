{
 "cells": [
  {
   "cell_type": "code",
   "execution_count": 8,
   "id": "7d6006df-381d-4918-9fe8-8e6cfacd2d73",
   "metadata": {},
   "outputs": [
    {
     "name": "stdin",
     "output_type": "stream",
     "text": [
      "value: 10\n"
     ]
    },
    {
     "name": "stdout",
     "output_type": "stream",
     "text": [
      "Correct\n"
     ]
    }
   ],
   "source": [
    "value = int (input(\"value:\"))\n",
    "if (value == 10):\n",
    "    print(\"Correct\")"
   ]
  },
  {
   "cell_type": "code",
   "execution_count": 15,
   "id": "fe1fd8d7-6c78-4245-85be-bc33679f7b52",
   "metadata": {},
   "outputs": [
    {
     "name": "stdin",
     "output_type": "stream",
     "text": [
      "Enter Your Password: marstech123\n"
     ]
    },
    {
     "name": "stdout",
     "output_type": "stream",
     "text": [
      "Your Password is Correct\n"
     ]
    }
   ],
   "source": [
    "password = str (input(\"Enter Your Password:\"))\n",
    "if (password == 'marstech123'):\n",
    "    print(\"Your Password is Correct\")\n",
    "else:\n",
    "    print(\"Your Password is Incorrect\")"
   ]
  },
  {
   "cell_type": "code",
   "execution_count": 22,
   "id": "45b96945-77d3-4943-8a62-1bcda95e532f",
   "metadata": {},
   "outputs": [
    {
     "name": "stdin",
     "output_type": "stream",
     "text": [
      "Age: 20\n"
     ]
    },
    {
     "name": "stdout",
     "output_type": "stream",
     "text": [
      "Adult\n"
     ]
    }
   ],
   "source": [
    "Age = int (input(\"Age:\"))\n",
    "if (Age<18 ):\n",
    "    print(\"Children\")\n",
    "elif(Age<25 | Age>18):\n",
    "    print(\"Adult\")\n",
    "elif(Age<45 | Age>25):\n",
    "    print(\"Citizen\")  \n",
    "else:\n",
    "    print(\"Senior Citizen\")"
   ]
  },
  {
   "cell_type": "code",
   "execution_count": 47,
   "id": "edcdd8b8-4d0d-4a91-8b4b-abc543d39885",
   "metadata": {},
   "outputs": [
    {
     "name": "stdin",
     "output_type": "stream",
     "text": [
      "Enter any number: 2\n"
     ]
    },
    {
     "name": "stdout",
     "output_type": "stream",
     "text": [
      "It's Positive\n"
     ]
    }
   ],
   "source": [
    "Number = int (input(\"Enter any number:\"))\n",
    "if (num<0):\n",
    "    print(\"It's Negative\")\n",
    "else:\n",
    "    print(\"It's Positive\")"
   ]
  },
  {
   "cell_type": "code",
   "execution_count": 1,
   "id": "2fe5c7ab-85b9-4127-8659-c89973cb6a6b",
   "metadata": {},
   "outputs": [
    {
     "name": "stdin",
     "output_type": "stream",
     "text": [
      "Enter a number to check: 25\n"
     ]
    },
    {
     "name": "stdout",
     "output_type": "stream",
     "text": [
      "Yes it is divisible by 5\n"
     ]
    }
   ],
   "source": [
    "Number = int (input(\"Enter a number to check:\"))\n",
    "if Number % 5 == 0:\n",
    "    print(\"Yes it is divisible by 5\")\n",
    "else:\n",
    "    print(\"No is not divisible by 5\")"
   ]
  },
  {
   "cell_type": "code",
   "execution_count": null,
   "id": "1f5546e9-022f-487d-a3d1-8626e44cae89",
   "metadata": {},
   "outputs": [],
   "source": []
  }
 ],
 "metadata": {
  "kernelspec": {
   "display_name": "Python 3 (ipykernel)",
   "language": "python",
   "name": "python3"
  },
  "language_info": {
   "codemirror_mode": {
    "name": "ipython",
    "version": 3
   },
   "file_extension": ".py",
   "mimetype": "text/x-python",
   "name": "python",
   "nbconvert_exporter": "python",
   "pygments_lexer": "ipython3",
   "version": "3.12.7"
  }
 },
 "nbformat": 4,
 "nbformat_minor": 5
}
