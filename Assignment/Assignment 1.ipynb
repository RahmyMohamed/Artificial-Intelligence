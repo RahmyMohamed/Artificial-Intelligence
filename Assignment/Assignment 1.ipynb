{
 "cells": [
  {
   "cell_type": "code",
   "execution_count": 1,
   "id": "d12de33c-50d6-4690-8b68-2cebab8f8df9",
   "metadata": {
    "scrolled": true
   },
   "outputs": [
    {
     "name": "stdout",
     "output_type": "stream",
     "text": [
      "Welcome to Assignment-1\n"
     ]
    }
   ],
   "source": [
    "print(\"Welcome to Assignment-1\")"
   ]
  },
  {
   "cell_type": "code",
   "execution_count": 2,
   "id": "dfb74faf-7ffa-4a9f-9cfc-93bbcdc0b96c",
   "metadata": {},
   "outputs": [
    {
     "name": "stdout",
     "output_type": "stream",
     "text": [
      "Num1=  10\n",
      "Num2=  30\n",
      "Add=  40\n"
     ]
    }
   ],
   "source": [
    "num1=10\n",
    "num2=20\n",
    "num3=10\n",
    "print(\"Num1= \",num1)\n",
    "print(\"Num2= \",num1+num2)\n",
    "print(\"Add= \",num1+num2+num3)"
   ]
  },
  {
   "cell_type": "code",
   "execution_count": 51,
   "id": "ddc85817-031b-4a41-bf28-ebaa30d182a8",
   "metadata": {},
   "outputs": [
    {
     "name": "stdin",
     "output_type": "stream",
     "text": [
      "Enter the BMI Index: 26\n"
     ]
    },
    {
     "name": "stdout",
     "output_type": "stream",
     "text": [
      "Overweight\n"
     ]
    }
   ],
   "source": [
    "age =int (input(\"Enter the BMI Index:\"))\n",
    "if (age<16):\n",
    "    print(\"Severe Thinness\")\n",
    "elif (16<= age <17):\n",
    "    print(\"Moderate Thinness\")\n",
    "elif (17<= age<18):\n",
    "    print(\"Mild Thinness\")\n",
    "elif (18<= age<25):\n",
    "    print(\"Normal\")\n",
    "elif (25<= age<30):\n",
    "    print(\"Overweight\")\n",
    "elif (30<= age<35):\n",
    "    print(\"Obese Class 1\")\n",
    "elif (35<=age<40):\n",
    "    print(\"Obese Class 2\")\n",
    "elif (age<=40):\n",
    "    print(\"Obese Class 3\")\n",
    "else:\n",
    "    print (\"Others\")"
   ]
  },
  {
   "cell_type": "code",
   "execution_count": null,
   "id": "0b231c98-73f1-418d-aa9a-8277d25c3e63",
   "metadata": {},
   "outputs": [],
   "source": []
  },
  {
   "cell_type": "code",
   "execution_count": null,
   "id": "879c8377-6c9d-421e-b4b8-9f23d5cd4371",
   "metadata": {},
   "outputs": [],
   "source": []
  }
 ],
 "metadata": {
  "kernelspec": {
   "display_name": "Python 3 (ipykernel)",
   "language": "python",
   "name": "python3"
  },
  "language_info": {
   "codemirror_mode": {
    "name": "ipython",
    "version": 3
   },
   "file_extension": ".py",
   "mimetype": "text/x-python",
   "name": "python",
   "nbconvert_exporter": "python",
   "pygments_lexer": "ipython3",
   "version": "3.12.7"
  }
 },
 "nbformat": 4,
 "nbformat_minor": 5
}
