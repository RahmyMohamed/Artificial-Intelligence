{
 "cells": [
  {
   "cell_type": "code",
   "execution_count": 24,
   "id": "1de067dd-ff53-4ce6-8e97-6cb8f137abcb",
   "metadata": {},
   "outputs": [
    {
     "name": "stdout",
     "output_type": "stream",
     "text": [
      "0\n",
      "1\n",
      "2\n",
      "3\n",
      "4\n",
      "5\n",
      "6\n",
      "7\n",
      "8\n",
      "9\n",
      "10\n",
      "11\n",
      "12\n",
      "13\n",
      "14\n",
      "15\n",
      "16\n",
      "17\n",
      "18\n",
      "19\n"
     ]
    }
   ],
   "source": [
    "for num in range (20):\n",
    "    print(num)"
   ]
  },
  {
   "cell_type": "code",
   "execution_count": 28,
   "id": "84a3bffd-1b43-4295-a868-ec6ce18536d8",
   "metadata": {},
   "outputs": [
    {
     "name": "stdout",
     "output_type": "stream",
     "text": [
      "10\n",
      "11\n",
      "12\n",
      "13\n",
      "14\n",
      "15\n",
      "16\n",
      "17\n",
      "18\n",
      "19\n"
     ]
    }
   ],
   "source": [
    "for num in range(10,20):\n",
    "    print(num)"
   ]
  },
  {
   "cell_type": "code",
   "execution_count": 78,
   "id": "c84c2ecc-a229-43e0-b7f4-035628fec543",
   "metadata": {},
   "outputs": [
    {
     "name": "stdout",
     "output_type": "stream",
     "text": [
      "[10, 20, 35, 29, 47, 59]\n",
      "Number of item in the list:\n",
      "6\n"
     ]
    }
   ],
   "source": [
    "list=[10,20,35,29,47,59]\n",
    "item=len(list)\n",
    "print([10,20,35,29,47,59])\n",
    "print(\"Number of item in the list:\")\n",
    "print(f\"{item}\")"
   ]
  },
  {
   "cell_type": "code",
   "execution_count": 8,
   "id": "93c3baaa-ae74-48c6-b680-c8cd02cf67d1",
   "metadata": {},
   "outputs": [
    {
     "name": "stdout",
     "output_type": "stream",
     "text": [
      "Artificial Inteligence\n",
      "A\n",
      "r\n",
      "t\n",
      "i\n",
      "f\n",
      "i\n",
      "c\n",
      "i\n",
      "a\n",
      "l\n",
      "\n",
      "I\n",
      "n\n",
      "t\n",
      "e\n",
      "l\n",
      "l\n",
      "i\n",
      "g\n",
      "e\n",
      "n\n",
      "c\n",
      "e\n"
     ]
    }
   ],
   "source": [
    "print(\"Artificial Inteligence\")\n",
    "print(\"A\")\n",
    "print(\"r\")\n",
    "print(\"t\")\n",
    "print(\"i\")\n",
    "print(\"f\")\n",
    "print(\"i\")\n",
    "print(\"c\")\n",
    "print(\"i\")\n",
    "print(\"a\")\n",
    "print(\"l\")\n",
    "print( )\n",
    "print(\"I\")\n",
    "print(\"n\")\n",
    "print(\"t\")\n",
    "print(\"e\")\n",
    "print(\"l\")\n",
    "print(\"l\")\n",
    "print(\"i\")\n",
    "print(\"g\")\n",
    "print(\"e\")\n",
    "print(\"n\")\n",
    "print(\"c\")\n",
    "print(\"e\")"
   ]
  },
  {
   "cell_type": "code",
   "execution_count": 88,
   "id": "b564b492-26b5-4db2-a32e-ac2afef74fc8",
   "metadata": {},
   "outputs": [
    {
     "name": "stdin",
     "output_type": "stream",
     "text": [
      "Your Nmae- M.H.M.Rahmy\n",
      "Your Age- 21\n",
      "Your Profession- Student Of Mars Tech\n"
     ]
    }
   ],
   "source": [
    "Delail= input(\"Your Nmae-\")\n",
    "Delail= input(\"Your Age-\")\n",
    "Delail= input(\"Your Profession-\")"
   ]
  },
  {
   "cell_type": "code",
   "execution_count": 93,
   "id": "f6c81b4b-2619-4eec-8aba-5bc6e8dfcc1f",
   "metadata": {},
   "outputs": [
    {
     "name": "stdout",
     "output_type": "stream",
     "text": [
      "(1, 'Welcome', 2, 'Mars Tech')\n"
     ]
    }
   ],
   "source": [
    "Tuple = (1,'Welcome', 2,'Mars Tech')\n",
    "print(Tuple)"
   ]
  },
  {
   "cell_type": "code",
   "execution_count": 7,
   "id": "f574a4ca-ef32-4683-8f84-3814660de08f",
   "metadata": {},
   "outputs": [
    {
     "name": "stdout",
     "output_type": "stream",
     "text": [
      "((0, 1, 2, 3), ('python', 'mars tech'))\n"
     ]
    }
   ],
   "source": [
    "Tuple1= ((0,1,2,3,),('python','mars tech'))\n",
    "print(Tuple1)"
   ]
  },
  {
   "cell_type": "code",
   "execution_count": 16,
   "id": "87d914ef-9ea2-4b46-b456-e5f8f5261229",
   "metadata": {},
   "outputs": [
    {
     "name": "stdout",
     "output_type": "stream",
     "text": [
      "[20, 10, 16, 19, 25, 1, 276, 188]\n",
      "19 is Odd\n",
      "25 is Odd\n",
      "1 is Odd\n"
     ]
    }
   ],
   "source": [
    "list = [20,10,16,19,25,1,276,188]\n",
    "print(list)\n",
    "for num in list:\n",
    "    if num % 2 !=0:\n",
    "        print (num,\"is Odd\")\n",
    "    "
   ]
  },
  {
   "cell_type": "code",
   "execution_count": 17,
   "id": "e6dd58ad-9fa1-45a2-ad15-c3a70ec3df88",
   "metadata": {},
   "outputs": [
    {
     "name": "stdout",
     "output_type": "stream",
     "text": [
      "[20, 10, 16, 19, 25, 1, 276, 188]\n",
      "20 is Even\n",
      "10 is Even\n",
      "16 is Even\n",
      "276 is Even\n",
      "188 is Even\n"
     ]
    }
   ],
   "source": [
    "list = [20,10,16,19,25,1,276,188]\n",
    "print(list)\n",
    "for num in list:\n",
    "    if num % 2 !=1:\n",
    "        print (num,\"is Even\")"
   ]
  },
  {
   "cell_type": "code",
   "execution_count": null,
   "id": "6297e3b9-f618-4804-a2ce-7262de297170",
   "metadata": {},
   "outputs": [],
   "source": []
  }
 ],
 "metadata": {
  "kernelspec": {
   "display_name": "Python 3 (ipykernel)",
   "language": "python",
   "name": "python3"
  },
  "language_info": {
   "codemirror_mode": {
    "name": "ipython",
    "version": 3
   },
   "file_extension": ".py",
   "mimetype": "text/x-python",
   "name": "python",
   "nbconvert_exporter": "python",
   "pygments_lexer": "ipython3",
   "version": "3.12.7"
  }
 },
 "nbformat": 4,
 "nbformat_minor": 5
}
