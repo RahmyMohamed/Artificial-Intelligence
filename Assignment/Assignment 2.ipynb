{
 "cells": [
  {
   "cell_type": "code",
   "execution_count": 1,
   "id": "62d31335-8337-455e-80e3-757cfc5355d6",
   "metadata": {},
   "outputs": [
    {
     "name": "stdout",
     "output_type": "stream",
     "text": [
      "Mars Tech\n"
     ]
    }
   ],
   "source": [
    "print(\"Mars Tech\")"
   ]
  },
  {
   "cell_type": "code",
   "execution_count": 2,
   "id": "e4b090ff-4ba2-4c92-896e-45a5af411892",
   "metadata": {},
   "outputs": [
    {
     "name": "stdin",
     "output_type": "stream",
     "text": [
      "Enter your institute name?: Mars Tech\n"
     ]
    }
   ],
   "source": [
    "Name= (input(\"Enter your institute name?:\"))"
   ]
  },
  {
   "cell_type": "code",
   "execution_count": 4,
   "id": "e0f82a8c-dc60-424f-b125-f0f079b2680c",
   "metadata": {},
   "outputs": [
    {
     "name": "stdin",
     "output_type": "stream",
     "text": [
      "Enter Your Name: Rahmy\n",
      "Enter Your Age: 21\n",
      "Enter Your School Name: Zahira Collage Puttalam\n",
      "Enter Your Digree: Bachelor of Information Technology\n"
     ]
    }
   ],
   "source": [
    "Name= (input(\"Enter Your Name:\"))\n",
    "Age=int (input(\"Enter Your Age:\"))\n",
    "school= (input(\"Enter Your School Name:\"))\n",
    "Digree= (input(\"Enter Your Digree:\"))"
   ]
  },
  {
   "cell_type": "code",
   "execution_count": 7,
   "id": "ac6a6018-7af1-495f-831e-6defe771c54a",
   "metadata": {},
   "outputs": [
    {
     "name": "stdin",
     "output_type": "stream",
     "text": [
      "a: 25\n",
      "b: 25\n"
     ]
    },
    {
     "name": "stdout",
     "output_type": "stream",
     "text": [
      "Add: 50\n"
     ]
    }
   ],
   "source": [
    "number1=int (input(\"a:\"))\n",
    "number2=int (input(\"b:\"))\n",
    "print(\"Add:\",number1+number2)"
   ]
  },
  {
   "cell_type": "code",
   "execution_count": 15,
   "id": "e2b15ce8-7af4-49e1-9c51-b3539471beac",
   "metadata": {},
   "outputs": [
    {
     "name": "stdin",
     "output_type": "stream",
     "text": [
      "a: 25\n",
      "b: 25\n"
     ]
    },
    {
     "name": "stdout",
     "output_type": "stream",
     "text": [
      "Sub: 0\n"
     ]
    }
   ],
   "source": [
    "number1=int (input(\"a:\"))\n",
    "number2=int (input(\"b:\"))\n",
    "print(\"Sub:\",number1-number2)"
   ]
  },
  {
   "cell_type": "code",
   "execution_count": 16,
   "id": "a136d27a-1cdf-4998-8313-5fc4b7021d4f",
   "metadata": {},
   "outputs": [
    {
     "name": "stdin",
     "output_type": "stream",
     "text": [
      "a: 25\n",
      "b: 25\n"
     ]
    },
    {
     "name": "stdout",
     "output_type": "stream",
     "text": [
      "Mul: 625\n"
     ]
    }
   ],
   "source": [
    "number1=int (input(\"a:\"))\n",
    "number2=int (input(\"b:\"))\n",
    "print(\"Mul:\",number1*number2)"
   ]
  },
  {
   "cell_type": "code",
   "execution_count": 18,
   "id": "1ae266b2-8765-47d4-9f64-3c450e8a6296",
   "metadata": {},
   "outputs": [
    {
     "name": "stdin",
     "output_type": "stream",
     "text": [
      "a: 76\n",
      "b: 31\n"
     ]
    },
    {
     "name": "stdout",
     "output_type": "stream",
     "text": [
      "Float Div: 2.4516129032258065\n"
     ]
    }
   ],
   "source": [
    "number1=int (input(\"a:\"))\n",
    "number2=int (input(\"b:\"))\n",
    "print(\"Float Div:\",number1/number2)"
   ]
  },
  {
   "cell_type": "code",
   "execution_count": 3,
   "id": "d47ac9d1-16ac-473f-8481-e3e469f15177",
   "metadata": {},
   "outputs": [
    {
     "name": "stdin",
     "output_type": "stream",
     "text": [
      "a: 76\n",
      "b: 31\n"
     ]
    },
    {
     "name": "stdout",
     "output_type": "stream",
     "text": [
      "Floor Div: 2\n"
     ]
    }
   ],
   "source": [
    "number1=int (input(\"a:\"))\n",
    "number2=int (input(\"b:\"))\n",
    "print(\"Floor Div:\",number1//number2)"
   ]
  },
  {
   "cell_type": "code",
   "execution_count": 20,
   "id": "aef5b38b-4dde-4f82-a516-0f91f08ba4a9",
   "metadata": {},
   "outputs": [
    {
     "name": "stdin",
     "output_type": "stream",
     "text": [
      "a: 76\n",
      "b: 31\n"
     ]
    },
    {
     "name": "stdout",
     "output_type": "stream",
     "text": [
      "Modulo: 14\n"
     ]
    }
   ],
   "source": [
    "number1=int (input(\"a:\"))\n",
    "number2=int (input(\"b:\"))\n",
    "print(\"Modulo:\",number1%number2)"
   ]
  },
  {
   "cell_type": "code",
   "execution_count": 23,
   "id": "246c85c5-1574-4a80-add6-c5c2fa2f2a13",
   "metadata": {},
   "outputs": [
    {
     "name": "stdin",
     "output_type": "stream",
     "text": [
      "a: 4\n",
      "b: 4\n"
     ]
    },
    {
     "name": "stdout",
     "output_type": "stream",
     "text": [
      "Power: 256\n"
     ]
    }
   ],
   "source": [
    "number1=int (input(\"a:\"))\n",
    "number2=int (input(\"b:\"))\n",
    "print(\"Power:\",number1**number2)"
   ]
  },
  {
   "cell_type": "code",
   "execution_count": null,
   "id": "ebb3f1cc-c9b0-44c2-9d87-267408e2d458",
   "metadata": {},
   "outputs": [],
   "source": []
  }
 ],
 "metadata": {
  "kernelspec": {
   "display_name": "Python 3 (ipykernel)",
   "language": "python",
   "name": "python3"
  },
  "language_info": {
   "codemirror_mode": {
    "name": "ipython",
    "version": 3
   },
   "file_extension": ".py",
   "mimetype": "text/x-python",
   "name": "python",
   "nbconvert_exporter": "python",
   "pygments_lexer": "ipython3",
   "version": "3.12.7"
  }
 },
 "nbformat": 4,
 "nbformat_minor": 5
}
