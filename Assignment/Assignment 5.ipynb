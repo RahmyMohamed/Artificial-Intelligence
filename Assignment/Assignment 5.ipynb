{
 "cells": [
  {
   "cell_type": "code",
   "execution_count": null,
   "id": "c0f5bdfe-90d6-4170-864b-08f6e49ab767",
   "metadata": {},
   "outputs": [],
   "source": []
  },
  {
   "cell_type": "code",
   "execution_count": 16,
   "id": "4e83b20c-4a6d-4af9-8a52-4bf54ceef446",
   "metadata": {},
   "outputs": [],
   "source": [
    "def SubFieldsInAi():\n",
    "    print(\"Sub-fields in Al are:\")\n",
    "    print(\"Machine Learning\")\n",
    "    print(\"Neural Networks\")\n",
    "    print(\"Vision\")\n",
    "    print(\"Robotics\")\n",
    "    print(\"Speech Processing\")\n",
    "    print(\"Natural Language Processing\")"
   ]
  },
  {
   "cell_type": "code",
   "execution_count": 17,
   "id": "948726d8-f93e-47e6-93a5-10f8b3bbba90",
   "metadata": {},
   "outputs": [
    {
     "name": "stdout",
     "output_type": "stream",
     "text": [
      "Sub-fields in Al are:\n",
      "Machine Learning\n",
      "Neural Networks\n",
      "Vision\n",
      "Robotics\n",
      "Speech Processing\n",
      "Natural Language Processing\n"
     ]
    }
   ],
   "source": [
    "SubFieldsInAi()"
   ]
  },
  {
   "cell_type": "code",
   "execution_count": 50,
   "id": "6de05ef0-8d26-4624-8224-2c0deb53a333",
   "metadata": {},
   "outputs": [],
   "source": [
    "def OddEven():\n",
    "\n",
    "    num =int(input(\"Enter your number:\"))\n",
    "    if(num%2==0):\n",
    "        print(num,\"is Even Number\")\n",
    "    else:\n",
    "        print(num,\"is Odd Number\")\n",
    "\n",
    "    return "
   ]
  },
  {
   "cell_type": "code",
   "execution_count": 51,
   "id": "6df0e91d-0d5c-4cfc-9665-08c34dd4b3eb",
   "metadata": {},
   "outputs": [
    {
     "name": "stdin",
     "output_type": "stream",
     "text": [
      "Enter your number: 26522\n"
     ]
    },
    {
     "name": "stdout",
     "output_type": "stream",
     "text": [
      "26522 is Even Number\n"
     ]
    }
   ],
   "source": [
    "OddEven()"
   ]
  },
  {
   "cell_type": "code",
   "execution_count": 57,
   "id": "52bae526-e017-4095-870b-9e92ae0db086",
   "metadata": {},
   "outputs": [],
   "source": [
    "def ElegiblityForMarriage():\n",
    "\n",
    "    detail =str(input(\"Your Gender:\"))\n",
    "    detail =int(input(\"Your Age:\"))\n",
    "\n",
    "    if (detail>=21):\n",
    "         print(\"Eligible\")\n",
    "    else:\n",
    "         print(\"Not Eligible\")"
   ]
  },
  {
   "cell_type": "code",
   "execution_count": 59,
   "id": "b3b04f54-db74-400d-9454-4cdec740ba2f",
   "metadata": {},
   "outputs": [
    {
     "name": "stdin",
     "output_type": "stream",
     "text": [
      "Your Gender: Male\n",
      "Your Age: 20\n"
     ]
    },
    {
     "name": "stdout",
     "output_type": "stream",
     "text": [
      "Not Eligible\n"
     ]
    }
   ],
   "source": [
    "ElegiblityForMarriage()"
   ]
  },
  {
   "cell_type": "code",
   "execution_count": 117,
   "id": "c3be75be-b067-4071-ab35-bd93aa6a7954",
   "metadata": {},
   "outputs": [],
   "source": [
    "def CalculatePercentage():\n",
    "\n",
    "    marks =[]\n",
    "    for i in range (5):\n",
    "        mark = float(input(f\"Enter marks for subject {i+1}:\"))\n",
    "        marks.append(mark)\n",
    "    \n",
    "    Total =sum(marks)\n",
    "    print(\"Total Marks:\",sum(marks))\n",
    "    whole = 500\n",
    "    \n",
    "    if whole == 0:\n",
    "        raise ValueError(\"The whole amount cannot ne zero.\")\n",
    "    percentage= (Total/whole)*100 \n",
    "    print(\"Percentage:\",percentage)\n",
    "    \n"
   ]
  },
  {
   "cell_type": "code",
   "execution_count": 122,
   "id": "24ac3cf4-dd27-48cb-95f4-7fc5759d0257",
   "metadata": {},
   "outputs": [
    {
     "name": "stdin",
     "output_type": "stream",
     "text": [
      "Enter marks for subject 1: 98\n",
      "Enter marks for subject 2: 87\n",
      "Enter marks for subject 3: 95\n",
      "Enter marks for subject 4: 95\n",
      "Enter marks for subject 5: 93\n"
     ]
    },
    {
     "name": "stdout",
     "output_type": "stream",
     "text": [
      "Total Marks: 468.0\n",
      "Percentage: 93.60000000000001\n"
     ]
    }
   ],
   "source": [
    "CalculatePercentage()"
   ]
  },
  {
   "cell_type": "code",
   "execution_count": 16,
   "id": "8780113a-56dd-4c3f-aebb-e984842ddc8d",
   "metadata": {},
   "outputs": [],
   "source": [
    "class triangle():\n",
    "    def AreaFormula():\n",
    "        \n",
    "        hight=float(input(\"Hight:\"))\n",
    "        breadth =float(input(\"Breadth\"))\n",
    "        Area = (hight*breadth)/2\n",
    "        print(\"Area Of Triangle: (hight*breadth)/2\")\n",
    "        print(\"Area Of Triangle:\",Area)\n",
    "    \n",
    "    def PerimeterFormula():\n",
    "        \n",
    "        hight1=float(input(\"Hight1:\"))\n",
    "        hight2=float(input(\"Hight2:\"))\n",
    "        breadth=float(input(\"Breadth:\"))\n",
    "        PerimeterFormula= hight1+hight2+breadth\n",
    "        print(\"Perimeter Formula: Hight1+Hight2+Breadth\")\n",
    "        print(\"Perimeter Formula:\",PerimeterFormula)\n",
    "    "
   ]
  },
  {
   "cell_type": "code",
   "execution_count": 17,
   "id": "98415302-af61-4727-b4ba-54bcdfa8149b",
   "metadata": {},
   "outputs": [
    {
     "name": "stdin",
     "output_type": "stream",
     "text": [
      "Hight: 32\n",
      "Breadth 34\n"
     ]
    },
    {
     "name": "stdout",
     "output_type": "stream",
     "text": [
      "Area Of Triangle: (hight*breadth)/2\n",
      "Area Of Triangle: 544.0\n"
     ]
    },
    {
     "name": "stdin",
     "output_type": "stream",
     "text": [
      "Hight1: 2\n",
      "Hight2: 4\n",
      "Breadth: 4\n"
     ]
    },
    {
     "name": "stdout",
     "output_type": "stream",
     "text": [
      "Perimeter Formula: Hight1+Hight2+Breadth\n",
      "Perimeter Formula: 10.0\n"
     ]
    }
   ],
   "source": [
    "triangle.AreaFormula()\n",
    "triangle.PerimeterFormula()"
   ]
  },
  {
   "cell_type": "code",
   "execution_count": null,
   "id": "c5b36556-6cdd-4801-b023-d1769d4b16dc",
   "metadata": {},
   "outputs": [],
   "source": []
  }
 ],
 "metadata": {
  "kernelspec": {
   "display_name": "Python 3 (ipykernel)",
   "language": "python",
   "name": "python3"
  },
  "language_info": {
   "codemirror_mode": {
    "name": "ipython",
    "version": 3
   },
   "file_extension": ".py",
   "mimetype": "text/x-python",
   "name": "python",
   "nbconvert_exporter": "python",
   "pygments_lexer": "ipython3",
   "version": "3.12.7"
  }
 },
 "nbformat": 4,
 "nbformat_minor": 5
}
