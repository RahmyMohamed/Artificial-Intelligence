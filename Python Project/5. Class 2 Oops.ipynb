{
 "cells": [
  {
   "cell_type": "code",
   "execution_count": 1,
   "id": "2179f8cf-1fe9-44a7-a6a8-59b35c6cd323",
   "metadata": {},
   "outputs": [],
   "source": [
    "from multifunction import MultiFunction\n",
    "#From file name import classname"
   ]
  },
  {
   "cell_type": "code",
   "execution_count": 2,
   "id": "b2600841-4d44-4045-9bec-b840c555810f",
   "metadata": {},
   "outputs": [
    {
     "name": "stdin",
     "output_type": "stream",
     "text": [
      "Enter The Number: 34\n"
     ]
    },
    {
     "name": "stdout",
     "output_type": "stream",
     "text": [
      "Even Number\n"
     ]
    }
   ],
   "source": [
    "MultiFunction.OddEven()"
   ]
  },
  {
   "cell_type": "code",
   "execution_count": 3,
   "id": "988fdae2-24c6-48b1-a2cf-420ee7dabffd",
   "metadata": {},
   "outputs": [
    {
     "name": "stdin",
     "output_type": "stream",
     "text": [
      "Enter The Index 53\n"
     ]
    },
    {
     "name": "stdout",
     "output_type": "stream",
     "text": [
      "Others\n"
     ]
    }
   ],
   "source": [
    "MultiFunction.BMIFun()"
   ]
  },
  {
   "cell_type": "code",
   "execution_count": null,
   "id": "fc263d53-3bbe-4771-b0bb-b91cd8b1a523",
   "metadata": {},
   "outputs": [],
   "source": []
  }
 ],
 "metadata": {
  "kernelspec": {
   "display_name": "Python 3 (ipykernel)",
   "language": "python",
   "name": "python3"
  },
  "language_info": {
   "codemirror_mode": {
    "name": "ipython",
    "version": 3
   },
   "file_extension": ".py",
   "mimetype": "text/x-python",
   "name": "python",
   "nbconvert_exporter": "python",
   "pygments_lexer": "ipython3",
   "version": "3.12.7"
  }
 },
 "nbformat": 4,
 "nbformat_minor": 5
}
