{
 "cells": [
  {
   "cell_type": "code",
   "execution_count": 1,
   "id": "b1cea7de-38fd-4963-a005-dc933402b603",
   "metadata": {},
   "outputs": [],
   "source": [
    "def AgeCat():\n",
    "\n",
    "    if(age<18):\n",
    "        print(\"Children\")\n",
    "        cate = \"Children\"\n",
    "    elif(age<35):\n",
    "        print(\"Adult\")\n",
    "        cate = \"Adult\"\n",
    "    elif(age<45):\n",
    "        print(\"Senior Citizen\")\n",
    "        cate = \"citizen\"\n",
    "    else:\n",
    "        print(\"Senior Citizen\")\n",
    "        cate = \"Senior Citizen\"\n",
    "    return cate"
   ]
  },
  {
   "cell_type": "code",
   "execution_count": 2,
   "id": "9933d971-be3a-4802-9e36-bc7929598ab2",
   "metadata": {},
   "outputs": [
    {
     "name": "stdin",
     "output_type": "stream",
     "text": [
      "Enter the Age: 24\n"
     ]
    },
    {
     "name": "stdout",
     "output_type": "stream",
     "text": [
      "Adult\n"
     ]
    }
   ],
   "source": [
    "age= int(input(\"Enter the Age:\"))\n",
    "agecate = AgeCat()  #cate"
   ]
  },
  {
   "cell_type": "code",
   "execution_count": 3,
   "id": "88b760c3-bc97-43db-bb0c-e03b4a838cd3",
   "metadata": {},
   "outputs": [
    {
     "data": {
      "text/plain": [
       "'Adult'"
      ]
     },
     "execution_count": 3,
     "metadata": {},
     "output_type": "execute_result"
    }
   ],
   "source": [
    "agecate"
   ]
  },
  {
   "cell_type": "code",
   "execution_count": 4,
   "id": "35caf928-fdd0-4df7-9bad-6700312dc9fa",
   "metadata": {},
   "outputs": [
    {
     "name": "stdout",
     "output_type": "stream",
     "text": [
      "Adult\n"
     ]
    }
   ],
   "source": [
    "print (agecate)"
   ]
  },
  {
   "cell_type": "code",
   "execution_count": null,
   "id": "8651dff5-b496-471f-8397-18eb95963d90",
   "metadata": {},
   "outputs": [],
   "source": []
  }
 ],
 "metadata": {
  "kernelspec": {
   "display_name": "Python 3 (ipykernel)",
   "language": "python",
   "name": "python3"
  },
  "language_info": {
   "codemirror_mode": {
    "name": "ipython",
    "version": 3
   },
   "file_extension": ".py",
   "mimetype": "text/x-python",
   "name": "python",
   "nbconvert_exporter": "python",
   "pygments_lexer": "ipython3",
   "version": "3.12.7"
  }
 },
 "nbformat": 4,
 "nbformat_minor": 5
}
