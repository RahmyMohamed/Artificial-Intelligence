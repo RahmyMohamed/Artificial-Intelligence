{
 "cells": [
  {
   "cell_type": "code",
   "execution_count": 1,
   "id": "ca3f5cf9-c6a7-493b-a306-af3e799a7f49",
   "metadata": {},
   "outputs": [],
   "source": [
    "num1 = 10"
   ]
  },
  {
   "cell_type": "code",
   "execution_count": 3,
   "id": "b94abb9c-f0dc-4e7a-a31d-24d63b9c749f",
   "metadata": {},
   "outputs": [
    {
     "name": "stdout",
     "output_type": "stream",
     "text": [
      "add\n",
      "1020\n"
     ]
    }
   ],
   "source": [
    "num1 = '10'\n",
    "num2 = '20'\n",
    "add = num1 + num2\n",
    "print(\"add\")\n",
    "print(add)    "
   ]
  },
  {
   "cell_type": "code",
   "execution_count": 1,
   "id": "88ac9c27-4034-469e-851c-51465a6e7b28",
   "metadata": {},
   "outputs": [
    {
     "name": "stdout",
     "output_type": "stream",
     "text": [
      "MarsTech\n"
     ]
    }
   ],
   "source": [
    "firstName = 'Mars'\n",
    "lastName = \"Tech\"\n",
    "fullName = firstName + lastName\n",
    "print(fullName)"
   ]
  },
  {
   "cell_type": "code",
   "execution_count": 5,
   "id": "8254c45f-3a7d-4c3e-973b-3bff54eae03a",
   "metadata": {},
   "outputs": [
    {
     "name": "stdout",
     "output_type": "stream",
     "text": [
      "The addition of two numbers\n",
      "First number is: 10\n",
      "Second number is : 20\n",
      "The answer is : 30\n"
     ]
    }
   ],
   "source": [
    "print(\"The addition of two numbers\")\n",
    "num1=5\n",
    "num2=10\n",
    "num3=15\n",
    "print(\"First number is:\",num2)\n",
    "print(\"Second number is :\",num3+num1)\n",
    "print(\"The answer is :\",num1+num2+num3)"
   ]
  },
  {
   "cell_type": "code",
   "execution_count": 7,
   "id": "5ba4aae3-3edd-4dba-8c22-d0556ca0d3f0",
   "metadata": {},
   "outputs": [
    {
     "name": "stdin",
     "output_type": "stream",
     "text": [
      "Enter the number1 : 12\n",
      "Enter the Number2 : 13\n"
     ]
    },
    {
     "name": "stdout",
     "output_type": "stream",
     "text": [
      "25\n"
     ]
    }
   ],
   "source": [
    "#User input\n",
    "number1=int (input(\"Enter the number1 :\"))\n",
    "number2=int (input(\"Enter the Number2 :\"))\n",
    "print(number1 + number2)"
   ]
  },
  {
   "cell_type": "code",
   "execution_count": null,
   "id": "d84101b5-c448-488c-8c1e-1e98155ef8ec",
   "metadata": {},
   "outputs": [],
   "source": []
  }
 ],
 "metadata": {
  "kernelspec": {
   "display_name": "Python 3 (ipykernel)",
   "language": "python",
   "name": "python3"
  },
  "language_info": {
   "codemirror_mode": {
    "name": "ipython",
    "version": 3
   },
   "file_extension": ".py",
   "mimetype": "text/x-python",
   "name": "python",
   "nbconvert_exporter": "python",
   "pygments_lexer": "ipython3",
   "version": "3.12.7"
  }
 },
 "nbformat": 4,
 "nbformat_minor": 5
}
