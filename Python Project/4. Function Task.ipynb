{
 "cells": [
  {
   "cell_type": "code",
   "execution_count": 2,
   "id": "1e3145b7-c290-444e-959a-5e6c669b0e00",
   "metadata": {},
   "outputs": [
    {
     "name": "stdin",
     "output_type": "stream",
     "text": [
      "Enter the BMI Index: 23\n"
     ]
    }
   ],
   "source": [
    "age =int (input(\"Enter the BMI Index:\"))\n",
    "\n",
    "def AgeCat():\n",
    "\n",
    "    if (age<16):\n",
    "        print(\"Severe Thinness\")\n",
    "        cate =\"Severe Thinness\"\n",
    "    elif (16<= age <17):\n",
    "        print(\"Moderate Thinness\")\n",
    "        cate = \"Moderate Thinness\"\n",
    "    elif (17<= age<18):\n",
    "        print(\"Mild Thinness\")\n",
    "        cate= \"Mild Thinness\"\n",
    "    elif (18<= age<25):\n",
    "        print(\"Normal\")\n",
    "        cate= \"Normal\"\n",
    "    elif (25<= age<30):\n",
    "        print(\"Overweight\")\n",
    "    elif (30<= age<35):\n",
    "        print(\"Obese Class 1\")\n",
    "    elif (35<=age<40):\n",
    "        print(\"Obese Class 2\")\n",
    "    elif (age<=40):\n",
    "        print(\"Obese Class 3\")\n",
    "    else:\n",
    "        print (\"Others\")"
   ]
  },
  {
   "cell_type": "code",
   "execution_count": 3,
   "id": "32205ee6-eb7b-4277-95f1-07a07ee4ee79",
   "metadata": {},
   "outputs": [
    {
     "name": "stdout",
     "output_type": "stream",
     "text": [
      "Normal\n"
     ]
    }
   ],
   "source": [
    "AgeCat()"
   ]
  },
  {
   "cell_type": "code",
   "execution_count": null,
   "id": "b3bb810f-9607-406f-b353-2f47e22d0fef",
   "metadata": {},
   "outputs": [],
   "source": []
  }
 ],
 "metadata": {
  "kernelspec": {
   "display_name": "Python 3 (ipykernel)",
   "language": "python",
   "name": "python3"
  },
  "language_info": {
   "codemirror_mode": {
    "name": "ipython",
    "version": 3
   },
   "file_extension": ".py",
   "mimetype": "text/x-python",
   "name": "python",
   "nbconvert_exporter": "python",
   "pygments_lexer": "ipython3",
   "version": "3.12.7"
  }
 },
 "nbformat": 4,
 "nbformat_minor": 5
}
