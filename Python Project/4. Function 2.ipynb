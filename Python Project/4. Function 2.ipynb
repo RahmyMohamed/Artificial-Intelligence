{
 "cells": [
  {
   "cell_type": "code",
   "execution_count": 2,
   "id": "ce176b1e-efa6-4b56-add2-7e215ab064fd",
   "metadata": {},
   "outputs": [
    {
     "name": "stdin",
     "output_type": "stream",
     "text": [
      "Enter the Age: 34\n"
     ]
    }
   ],
   "source": [
    "age= int(input(\"Enter the Age:\"))\n",
    "\n",
    "def AgeCat():\n",
    "\n",
    "    if(age<18):\n",
    "        print(\"Children\")\n",
    "        cate = \"Children\"\n",
    "    elif(age<35):\n",
    "        print(\"Adult\")\n",
    "        cate = \"Adult\"\n",
    "    elif(age<45):\n",
    "        print(\"Senior Citizen\")\n",
    "        cate = \"citizen\"\n",
    "    else:\n",
    "        print(\"Senior Citizen\")\n",
    "        cate = \"Senior Citizen\"\n",
    "    return cate"
   ]
  },
  {
   "cell_type": "code",
   "execution_count": 3,
   "id": "beec226c-0edc-48d5-b0bc-703328bf4251",
   "metadata": {},
   "outputs": [
    {
     "name": "stdout",
     "output_type": "stream",
     "text": [
      "Adult\n"
     ]
    },
    {
     "data": {
      "text/plain": [
       "'Adult'"
      ]
     },
     "execution_count": 3,
     "metadata": {},
     "output_type": "execute_result"
    }
   ],
   "source": [
    "AgeCat()"
   ]
  },
  {
   "cell_type": "code",
   "execution_count": null,
   "id": "c5323424-68d2-4489-a201-90cb079537d5",
   "metadata": {},
   "outputs": [],
   "source": []
  }
 ],
 "metadata": {
  "kernelspec": {
   "display_name": "Python 3 (ipykernel)",
   "language": "python",
   "name": "python3"
  },
  "language_info": {
   "codemirror_mode": {
    "name": "ipython",
    "version": 3
   },
   "file_extension": ".py",
   "mimetype": "text/x-python",
   "name": "python",
   "nbconvert_exporter": "python",
   "pygments_lexer": "ipython3",
   "version": "3.12.7"
  }
 },
 "nbformat": 4,
 "nbformat_minor": 5
}
