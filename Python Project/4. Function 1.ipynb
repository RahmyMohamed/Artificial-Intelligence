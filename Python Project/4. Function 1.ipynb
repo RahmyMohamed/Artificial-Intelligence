{
 "cells": [
  {
   "cell_type": "code",
   "execution_count": 1,
   "id": "3bbe5562-dbd8-4f1d-be56-7bfffbcd6e17",
   "metadata": {},
   "outputs": [],
   "source": [
    "list=[11,23,43,13,26,65]\n",
    "\n",
    "def AgeCat():\n",
    "\n",
    "    for age in list:\n",
    "        if(age<18):\n",
    "            print(\"Children\")\n",
    "        elif(age<35):\n",
    "            print(\"Adult\")\n",
    "        elif(age<45):\n",
    "            print(\"Citizen\")\n",
    "        else:\n",
    "            print(\"Senior Citizen\")\n",
    "\n"
   ]
  },
  {
   "cell_type": "code",
   "execution_count": 2,
   "id": "2f10669b-0432-4e31-b064-4eb22633a789",
   "metadata": {},
   "outputs": [
    {
     "name": "stdout",
     "output_type": "stream",
     "text": [
      "Children\n",
      "Adult\n",
      "Citizen\n",
      "Children\n",
      "Adult\n",
      "Senior Citizen\n"
     ]
    }
   ],
   "source": [
    "AgeCat()  #fuction call "
   ]
  },
  {
   "cell_type": "code",
   "execution_count": 10,
   "id": "c9c3b994-5bcb-4588-acc6-0347d9c1cd50",
   "metadata": {},
   "outputs": [
    {
     "name": "stdin",
     "output_type": "stream",
     "text": [
      "Enter the Age: 12\n"
     ]
    }
   ],
   "source": [
    "age= int(input(\"Enter the Age:\"))\n",
    "def AgeCat():\n",
    "\n",
    "    if(age<18):\n",
    "        print(\"Children\")\n",
    "    elif(age<35):\n",
    "        print(\"Adult\")\n",
    "    elif(age<45):\n",
    "        print(\"Senior Citizen\")\n",
    "    else:\n",
    "        print(\"Senior Citizen\")"
   ]
  },
  {
   "cell_type": "code",
   "execution_count": 11,
   "id": "cd170fb2-6e72-4944-97fa-5beaf7980150",
   "metadata": {},
   "outputs": [
    {
     "name": "stdout",
     "output_type": "stream",
     "text": [
      "Children\n"
     ]
    }
   ],
   "source": [
    "AgeCat()"
   ]
  },
  {
   "cell_type": "code",
   "execution_count": null,
   "id": "e10237ea-3767-41d2-8739-4767bd4549c8",
   "metadata": {},
   "outputs": [],
   "source": []
  }
 ],
 "metadata": {
  "kernelspec": {
   "display_name": "Python 3 (ipykernel)",
   "language": "python",
   "name": "python3"
  },
  "language_info": {
   "codemirror_mode": {
    "name": "ipython",
    "version": 3
   },
   "file_extension": ".py",
   "mimetype": "text/x-python",
   "name": "python",
   "nbconvert_exporter": "python",
   "pygments_lexer": "ipython3",
   "version": "3.12.7"
  }
 },
 "nbformat": 4,
 "nbformat_minor": 5
}
