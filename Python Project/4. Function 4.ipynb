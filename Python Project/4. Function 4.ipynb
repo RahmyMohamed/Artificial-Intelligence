{
 "cells": [
  {
   "cell_type": "code",
   "execution_count": 1,
   "id": "b4284a8c-bf04-44db-84fa-3bf372433db5",
   "metadata": {},
   "outputs": [],
   "source": [
    "def AgeCat():\n",
    "\n",
    "    if(age<18):\n",
    "        print(\"Children\")\n",
    "        cate = \"Children\"\n",
    "    elif(age<35):\n",
    "        print(\"Adult\")\n",
    "        cate = \"Adult\"\n",
    "    elif(age<45):\n",
    "        print(\"Senior Citizen\")\n",
    "        cate = \"citizen\"\n",
    "    else:\n",
    "        print(\"Senior Citizen\")\n",
    "        cate = \"Senior Citizen\""
   ]
  },
  {
   "cell_type": "code",
   "execution_count": 2,
   "id": "942d8b8f-5095-4cff-b891-03fe3a29b48f",
   "metadata": {},
   "outputs": [
    {
     "name": "stdin",
     "output_type": "stream",
     "text": [
      "Enter the Age: 24\n"
     ]
    },
    {
     "name": "stdout",
     "output_type": "stream",
     "text": [
      "Adult\n"
     ]
    }
   ],
   "source": [
    "age= int(input(\"Enter the Age:\"))\n",
    "agecate = AgeCat() "
   ]
  },
  {
   "cell_type": "code",
   "execution_count": 3,
   "id": "02d6f229-9609-4848-9715-e676cbc7623b",
   "metadata": {},
   "outputs": [
    {
     "name": "stdout",
     "output_type": "stream",
     "text": [
      "None\n"
     ]
    }
   ],
   "source": [
    "print (agecate)"
   ]
  },
  {
   "cell_type": "code",
   "execution_count": 12,
   "id": "59ff9f14-9b48-421a-ad5b-b19fa546bddd",
   "metadata": {},
   "outputs": [],
   "source": [
    "def Multiplicatin (num1,num2):\n",
    "    add= num1*num2\n",
    "    return add"
   ]
  },
  {
   "cell_type": "code",
   "execution_count": 15,
   "id": "8be09a95-1502-4dc0-a553-a101a3eede8c",
   "metadata": {},
   "outputs": [
    {
     "name": "stdin",
     "output_type": "stream",
     "text": [
      "!st number 3\n",
      "2nd number 4.8\n"
     ]
    },
    {
     "data": {
      "text/plain": [
       "14.399999999999999"
      ]
     },
     "execution_count": 15,
     "metadata": {},
     "output_type": "execute_result"
    }
   ],
   "source": [
    "one= float(input(\"!st number\"))\n",
    "two= float(input(\"2nd number\"))\n",
    "Multiplicatin(one,two)"
   ]
  },
  {
   "cell_type": "code",
   "execution_count": null,
   "id": "730caf63-7f45-43b0-9fb3-314a6e8ca9aa",
   "metadata": {},
   "outputs": [],
   "source": []
  }
 ],
 "metadata": {
  "kernelspec": {
   "display_name": "Python 3 (ipykernel)",
   "language": "python",
   "name": "python3"
  },
  "language_info": {
   "codemirror_mode": {
    "name": "ipython",
    "version": 3
   },
   "file_extension": ".py",
   "mimetype": "text/x-python",
   "name": "python",
   "nbconvert_exporter": "python",
   "pygments_lexer": "ipython3",
   "version": "3.12.7"
  }
 },
 "nbformat": 4,
 "nbformat_minor": 5
}
