{
 "cells": [
  {
   "cell_type": "code",
   "execution_count": 12,
   "id": "e1ffb272-eed7-44ae-b1a3-93ff7b87af98",
   "metadata": {},
   "outputs": [],
   "source": [
    "class MultiFunction():\n",
    "    def OddEven():\n",
    "        \n",
    "        num= int(input(\"Enter The Number:\"))\n",
    "        if(num%2==0):\n",
    "            print(\"Even Number\")\n",
    "        else:\n",
    "            print(\"Odd Number\")\n",
    "   \n",
    "    def BMIFun():\n",
    "        \n",
    "        BMI=int(input(\"Enter The Index\"))\n",
    "        if   (BMI<16):\n",
    "            print(\"Severe Thinness\")  \n",
    "        elif (16<= BMI <17):\n",
    "            print(\"Moderate Thinness\")     \n",
    "        elif (17<= BMI<18):\n",
    "            print(\"Mild Thinness\")      \n",
    "        elif (18<= BMI<25):\n",
    "            print(\"Normal\")\n",
    "        elif (25<= BMI<30):\n",
    "            print(\"Overweight\")\n",
    "        elif (30<= BMI<35):\n",
    "            print(\"Obese Class 1\")\n",
    "        elif (35<= BMI<40):\n",
    "            print(\"Obese Class 2\")\n",
    "        elif (BMI<=40):\n",
    "            print(\"Obese Class 3\")\n",
    "        else:\n",
    "            print (\"Others\")"
   ]
  },
  {
   "cell_type": "code",
   "execution_count": 14,
   "id": "1e7bae3d-d984-46c5-a770-c5b92273a23e",
   "metadata": {},
   "outputs": [
    {
     "name": "stdin",
     "output_type": "stream",
     "text": [
      "Enter The Number: 22\n"
     ]
    },
    {
     "name": "stdout",
     "output_type": "stream",
     "text": [
      "Even Number\n"
     ]
    }
   ],
   "source": [
    "MultiFunction.OddEven()\n",
    "\n"
   ]
  },
  {
   "cell_type": "code",
   "execution_count": 15,
   "id": "212c10db-bafd-41bb-89dc-0097d2aeb674",
   "metadata": {},
   "outputs": [
    {
     "name": "stdin",
     "output_type": "stream",
     "text": [
      "Enter The Index 23\n"
     ]
    },
    {
     "name": "stdout",
     "output_type": "stream",
     "text": [
      "Normal\n"
     ]
    }
   ],
   "source": [
    "MultiFunction.BMIFun()"
   ]
  },
  {
   "cell_type": "code",
   "execution_count": null,
   "id": "cae11397-10e3-45f7-9bd2-deb67b5e8f9e",
   "metadata": {},
   "outputs": [],
   "source": []
  }
 ],
 "metadata": {
  "kernelspec": {
   "display_name": "Python 3 (ipykernel)",
   "language": "python",
   "name": "python3"
  },
  "language_info": {
   "codemirror_mode": {
    "name": "ipython",
    "version": 3
   },
   "file_extension": ".py",
   "mimetype": "text/x-python",
   "name": "python",
   "nbconvert_exporter": "python",
   "pygments_lexer": "ipython3",
   "version": "3.12.7"
  }
 },
 "nbformat": 4,
 "nbformat_minor": 5
}
