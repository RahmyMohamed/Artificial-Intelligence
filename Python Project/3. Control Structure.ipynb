{
 "cells": [
  {
   "cell_type": "code",
   "execution_count": 1,
   "id": "59803457-521d-4ec7-8393-21411dc2e5db",
   "metadata": {},
   "outputs": [],
   "source": [
    "if():\n",
    "    print()"
   ]
  },
  {
   "cell_type": "code",
   "execution_count": 19,
   "id": "75b7c4fe-1196-4acb-8fa0-ab39573e71a7",
   "metadata": {},
   "outputs": [
    {
     "name": "stdin",
     "output_type": "stream",
     "text": [
      "Enter Your Age 18\n"
     ]
    }
   ],
   "source": [
    "age = int (input(\"Enter Your Age\"))"
   ]
  },
  {
   "cell_type": "code",
   "execution_count": 20,
   "id": "1b2b17cb-961a-46a2-ade0-13da18060bdf",
   "metadata": {},
   "outputs": [
    {
     "name": "stdout",
     "output_type": "stream",
     "text": [
      "Adult\n"
     ]
    }
   ],
   "source": [
    "if(age == 18):\n",
    "    print(\"Adult\")\n",
    "else:\n",
    "    print(\"Other\")"
   ]
  },
  {
   "cell_type": "code",
   "execution_count": 32,
   "id": "bc09dfdc-084c-441d-815d-ed3a6c5adf1c",
   "metadata": {},
   "outputs": [
    {
     "name": "stdin",
     "output_type": "stream",
     "text": [
      "Enter Your Age 33\n"
     ]
    }
   ],
   "source": [
    "age = int (input(\"Enter Your Age\"))"
   ]
  },
  {
   "cell_type": "code",
   "execution_count": 35,
   "id": "3f3f86d8-bf34-47ab-b56d-b273d94e3afe",
   "metadata": {},
   "outputs": [
    {
     "name": "stdout",
     "output_type": "stream",
     "text": [
      "Adult\n"
     ]
    }
   ],
   "source": [
    "if(age<18):\n",
    "    print(\"Children\")\n",
    "else:\n",
    "    print(\"Adult\")\n"
   ]
  },
  {
   "cell_type": "code",
   "execution_count": 37,
   "id": "7986668a-7f6c-4791-b7a2-9c8740d2774d",
   "metadata": {},
   "outputs": [
    {
     "name": "stdout",
     "output_type": "stream",
     "text": [
      "Adult\n"
     ]
    }
   ],
   "source": [
    "if(age<18):\n",
    "    print(\"Children\")\n",
    "elif (age<35 | age>18):\n",
    "    print(\"Adult\")\n",
    "elif (age<45 | age>35):\n",
    "    print(\"Citizen\")\n",
    "else:\n",
    "    print(\"Senior Citizen\")\n",
    "    "
   ]
  },
  {
   "cell_type": "code",
   "execution_count": 45,
   "id": "f969218d-2041-4893-a268-d32d80089455",
   "metadata": {},
   "outputs": [],
   "source": [
    "list=[23,35,15,11,46]"
   ]
  },
  {
   "cell_type": "code",
   "execution_count": 49,
   "id": "4dd374d1-d31d-46c1-8d2a-f2cc1222360e",
   "metadata": {},
   "outputs": [
    {
     "name": "stdout",
     "output_type": "stream",
     "text": [
      "Adult\n",
      "Citizen\n",
      "Children\n",
      "Children\n",
      "Adult\n"
     ]
    }
   ],
   "source": [
    "for age in list:\n",
    "    if(age<18):\n",
    "        print(\"Children\")\n",
    "    elif (age<35 | age>18):\n",
    "        print(\"Adult\")\n",
    "    elif (age<45 | age>35):\n",
    "        print(\"Citizen\")\n",
    "    else:\n",
    "        print(\"Senior Citizen\")"
   ]
  },
  {
   "cell_type": "code",
   "execution_count": null,
   "id": "12dd9622-edc1-4416-85b5-38a8d9bdad11",
   "metadata": {},
   "outputs": [],
   "source": []
  },
  {
   "cell_type": "code",
   "execution_count": null,
   "id": "589fdea7-e57f-40b1-9687-817254ed5a0d",
   "metadata": {},
   "outputs": [],
   "source": []
  }
 ],
 "metadata": {
  "kernelspec": {
   "display_name": "Python 3 (ipykernel)",
   "language": "python",
   "name": "python3"
  },
  "language_info": {
   "codemirror_mode": {
    "name": "ipython",
    "version": 3
   },
   "file_extension": ".py",
   "mimetype": "text/x-python",
   "name": "python",
   "nbconvert_exporter": "python",
   "pygments_lexer": "ipython3",
   "version": "3.12.7"
  }
 },
 "nbformat": 4,
 "nbformat_minor": 5
}
